{
 "cells": [
  {
   "cell_type": "code",
   "execution_count": 2,
   "metadata": {},
   "outputs": [
    {
     "name": "stderr",
     "output_type": "stream",
     "text": [
      "C:\\Users\\Suryaman\\Anaconda3\\lib\\site-packages\\h5py\\__init__.py:36: FutureWarning: Conversion of the second argument of issubdtype from `float` to `np.floating` is deprecated. In future, it will be treated as `np.float64 == np.dtype(float).type`.\n",
      "  from ._conv import register_converters as _register_converters\n",
      "Using TensorFlow backend.\n"
     ]
    }
   ],
   "source": [
    "import numpy\n",
    "from keras import backend as K\n",
    "from keras.datasets import mnist\n",
    "from keras.utils import np_utils"
   ]
  },
  {
   "cell_type": "code",
   "execution_count": 3,
   "metadata": {},
   "outputs": [],
   "source": [
    "from keras.layers import Dense, Dropout,Flatten\n",
    "from keras.layers.convolutional import Conv2D, MaxPooling2D"
   ]
  },
  {
   "cell_type": "code",
   "execution_count": 4,
   "metadata": {},
   "outputs": [],
   "source": [
    "from keras.models import Sequential\n",
    "import pandas as pd\n",
    "\n",
    "model = Sequential()\n"
   ]
  },
  {
   "cell_type": "code",
   "execution_count": 5,
   "metadata": {},
   "outputs": [],
   "source": [
    "K.set_image_data_format('channels_last')\n",
    "numpy.random.seed(0)\n",
    "\n",
    "def load_data(path='input/mnist/mnist.npz'):\n",
    "    \"\"\"Loads the MNIST dataset.\n",
    "    \n",
    "    # Returns\n",
    "        Tuple of Numpy arrays: `(x_train, y_train), (x_test, y_test)`.\n",
    "    \"\"\"\n",
    "#     path = get_file(path, origin='https://s3.amazonaws.com/img-datasets/mnist.np/8z')\n",
    "    f = numpy.load('input/mnist/mnist.npz')\n",
    "    x_train = f['x_train']\n",
    "    y_train = f['y_train']\n",
    "    x_test = f['x_test']\n",
    "    y_test = f['y_test']\n",
    "    f.close()\n",
    "    return (x_train, y_train), (x_test, y_test)"
   ]
  },
  {
   "cell_type": "code",
   "execution_count": 6,
   "metadata": {},
   "outputs": [],
   "source": [
    "(X_train, y_train), (X_test, y_test)  = load_data()\n",
    "training_set = pd.read_csv('input/train.csv')\n",
    "\n",
    "test_set = pd.read_csv('input/test.csv')"
   ]
  },
  {
   "cell_type": "code",
   "execution_count": 7,
   "metadata": {},
   "outputs": [],
   "source": [
    "X_train = X_train / 255\n",
    "X_test2 = X_test / 255"
   ]
  },
  {
   "cell_type": "code",
   "execution_count": 8,
   "metadata": {},
   "outputs": [
    {
     "name": "stdout",
     "output_type": "stream",
     "text": [
      "the number of training examples = 60000\n",
      "the number of classes = 10\n",
      "Dimention of images = 28 x 28  \n",
      "The number of occuranc of each class in the dataset = {0: 5923, 1: 6742, 2: 5958, 3: 6131, 4: 5842, 5: 5421, 6: 5918, 7: 6265, 8: 5851, 9: 5949}  \n",
      "\n"
     ]
    }
   ],
   "source": [
    "import matplotlib.pyplot as plt\n",
    "\n",
    "print(\"the number of training examples = %i\" % X_train.shape[0])\n",
    "print(\"the number of classes = %i\" % len(numpy.unique(y_train)))\n",
    "print(\"Dimention of images = {:d} x {:d}  \".format(X_train[1].shape[0],X_train[1].shape[1])  )\n",
    "\n",
    "#This line will allow us to know the number of occurrences of each specific class in the data\n",
    "unique, count= numpy.unique(y_train, return_counts=True)\n",
    "print(\"The number of occuranc of each class in the dataset = %s \" % dict (zip(unique, count) ), \"\\n\" )\n",
    " \n",
    "images_and_labels = list(zip(X_train,  y_train))\n",
    "for index, (image, label) in enumerate(images_and_labels[:12]):\n",
    "    plt.subplot(5, 4, index + 1)\n",
    "    plt.axis('off')\n",
    "    plt.imshow(image, cmap=plt.cm.gray_r, interpolation='nearest')\n",
    "    plt.title('label: %i' % label)"
   ]
  },
  {
   "cell_type": "code",
   "execution_count": 9,
   "metadata": {},
   "outputs": [],
   "source": [
    "X_train = X_train.reshape(X_train.shape[0], 28, 28 , 1).astype('float32')\n",
    "X_test = X_test.reshape(X_test.shape[0], 28, 28 , 1).astype('float32')\n",
    "y_train = np_utils.to_categorical(y_train)\n",
    "y_test = np_utils.to_categorical(y_test)"
   ]
  },
  {
   "cell_type": "code",
   "execution_count": 10,
   "metadata": {},
   "outputs": [],
   "source": [
    "from keras.layers import Dropout\n",
    "\n",
    "model.add(Conv2D(40, kernel_size=5, padding=\"same\",input_shape=(28, 28, 1), activation = 'relu'))\n",
    "model.add(Conv2D(50, kernel_size=5, padding=\"valid\", activation = 'relu'))\n",
    "model.add(MaxPooling2D(pool_size=(2, 2), strides=(2, 2)))\n",
    "model.add(Dropout(0.2))"
   ]
  },
  {
   "cell_type": "code",
   "execution_count": 11,
   "metadata": {},
   "outputs": [],
   "source": [
    "model.add(Conv2D(70, kernel_size=3, padding=\"same\", activation = 'relu'))\n",
    "model.add(MaxPooling2D(pool_size=(2, 2), strides=(2, 2)))\n",
    "model.add(Conv2D(100, kernel_size=3, padding=\"valid\", activation = 'relu'))\n",
    "model.add(MaxPooling2D(pool_size=(2, 2), strides=(2, 2)))"
   ]
  },
  {
   "cell_type": "code",
   "execution_count": 12,
   "metadata": {},
   "outputs": [],
   "source": [
    "from keras.layers.core import Activation\n",
    "\n",
    "model.add(Flatten())\n",
    "model.add(Dense(100))\n",
    "model.add(Activation(\"relu\"))\n",
    "model.add(Dropout(0.2))\n",
    "\n",
    "model.add(Dense(10))\n",
    "model.add(Activation(\"softmax\"))\n",
    "model.compile(loss='categorical_crossentropy', optimizer='adam', metrics=['accuracy'])"
   ]
  },
  {
   "cell_type": "code",
   "execution_count": 13,
   "metadata": {},
   "outputs": [
    {
     "name": "stdout",
     "output_type": "stream",
     "text": [
      "Train on 48000 samples, validate on 12000 samples\n",
      "Epoch 1/32\n",
      "48000/48000 [==============================] - 1656s 35ms/step - loss: 0.3683 - acc: 0.8797 - val_loss: 0.0759 - val_acc: 0.9763\n",
      "Epoch 2/32\n",
      "48000/48000 [==============================] - 1649s 34ms/step - loss: 0.0876 - acc: 0.9739 - val_loss: 0.0492 - val_acc: 0.9848\n",
      "Epoch 3/32\n",
      "48000/48000 [==============================] - 1642s 34ms/step - loss: 0.0575 - acc: 0.9829 - val_loss: 0.0391 - val_acc: 0.9880\n",
      "Epoch 4/32\n",
      "48000/48000 [==============================] - 1656s 35ms/step - loss: 0.0453 - acc: 0.9867 - val_loss: 0.0425 - val_acc: 0.9873\n",
      "Epoch 5/32\n",
      "48000/48000 [==============================] - 1650s 34ms/step - loss: 0.0389 - acc: 0.9882 - val_loss: 0.0381 - val_acc: 0.9874\n",
      "Epoch 6/32\n",
      "48000/48000 [==============================] - 1651s 34ms/step - loss: 0.0310 - acc: 0.9903 - val_loss: 0.0321 - val_acc: 0.9902\n",
      "Epoch 7/32\n",
      "48000/48000 [==============================] - 1662s 35ms/step - loss: 0.0299 - acc: 0.9906 - val_loss: 0.0450 - val_acc: 0.9875\n",
      "Epoch 8/32\n",
      "48000/48000 [==============================] - 1652s 34ms/step - loss: 0.0249 - acc: 0.9921 - val_loss: 0.0387 - val_acc: 0.9901\n",
      "Epoch 9/32\n",
      "48000/48000 [==============================] - 1666s 35ms/step - loss: 0.0219 - acc: 0.9929 - val_loss: 0.0340 - val_acc: 0.9900\n",
      "Epoch 10/32\n",
      "48000/48000 [==============================] - 1661s 35ms/step - loss: 0.0205 - acc: 0.9933 - val_loss: 0.0291 - val_acc: 0.9912\n",
      "Epoch 11/32\n",
      "48000/48000 [==============================] - 1659s 35ms/step - loss: 0.0182 - acc: 0.9941 - val_loss: 0.0329 - val_acc: 0.9923\n",
      "Epoch 12/32\n",
      "48000/48000 [==============================] - 1654s 34ms/step - loss: 0.0177 - acc: 0.9940 - val_loss: 0.0292 - val_acc: 0.9925\n",
      "Epoch 13/32\n",
      "48000/48000 [==============================] - 1684s 35ms/step - loss: 0.0164 - acc: 0.9946 - val_loss: 0.0323 - val_acc: 0.9918\n",
      "Epoch 14/32\n",
      "48000/48000 [==============================] - 1666s 35ms/step - loss: 0.0155 - acc: 0.9951 - val_loss: 0.0319 - val_acc: 0.9923\n",
      "Epoch 15/32\n",
      "48000/48000 [==============================] - 1658s 35ms/step - loss: 0.0153 - acc: 0.9951 - val_loss: 0.0374 - val_acc: 0.9911\n",
      "Epoch 16/32\n",
      "48000/48000 [==============================] - 1706s 36ms/step - loss: 0.0129 - acc: 0.9961 - val_loss: 0.0327 - val_acc: 0.9923\n",
      "Epoch 17/32\n",
      "48000/48000 [==============================] - 1782s 37ms/step - loss: 0.0161 - acc: 0.9942 - val_loss: 0.0354 - val_acc: 0.9919\n",
      "Epoch 18/32\n",
      "48000/48000 [==============================] - 1657s 35ms/step - loss: 0.0121 - acc: 0.9963 - val_loss: 0.0394 - val_acc: 0.9913\n",
      "Epoch 19/32\n",
      "48000/48000 [==============================] - 1655s 34ms/step - loss: 0.0123 - acc: 0.9962 - val_loss: 0.0375 - val_acc: 0.9905\n",
      "Epoch 20/32\n",
      "48000/48000 [==============================] - 1655s 34ms/step - loss: 0.0103 - acc: 0.9967 - val_loss: 0.0398 - val_acc: 0.9907\n",
      "Epoch 21/32\n",
      "48000/48000 [==============================] - 1657s 35ms/step - loss: 0.0116 - acc: 0.9960 - val_loss: 0.0357 - val_acc: 0.9919\n",
      "Epoch 22/32\n",
      "48000/48000 [==============================] - 1675s 35ms/step - loss: 0.0155 - acc: 0.9950 - val_loss: 0.0388 - val_acc: 0.9918\n",
      "Epoch 23/32\n",
      "48000/48000 [==============================] - 1670s 35ms/step - loss: 0.0142 - acc: 0.9954 - val_loss: 0.0438 - val_acc: 0.9905\n",
      "Epoch 24/32\n",
      "48000/48000 [==============================] - 1655s 34ms/step - loss: 0.0119 - acc: 0.9963 - val_loss: 0.0442 - val_acc: 0.9908\n",
      "Epoch 25/32\n",
      "48000/48000 [==============================] - 1674s 35ms/step - loss: 0.0127 - acc: 0.9962 - val_loss: 0.0304 - val_acc: 0.9928\n",
      "Epoch 26/32\n",
      "48000/48000 [==============================] - 1643s 34ms/step - loss: 0.0067 - acc: 0.9978 - val_loss: 0.0431 - val_acc: 0.9921\n",
      "Epoch 27/32\n",
      "48000/48000 [==============================] - 1652s 34ms/step - loss: 0.0088 - acc: 0.9972 - val_loss: 0.0370 - val_acc: 0.9932\n",
      "Epoch 28/32\n",
      "48000/48000 [==============================] - 1645s 34ms/step - loss: 0.0078 - acc: 0.9978 - val_loss: 0.0488 - val_acc: 0.9915\n",
      "Epoch 29/32\n",
      "48000/48000 [==============================] - 1645s 34ms/step - loss: 0.0108 - acc: 0.9968 - val_loss: 0.0454 - val_acc: 0.9920\n",
      "Epoch 30/32\n",
      "48000/48000 [==============================] - 1644s 34ms/step - loss: 0.0096 - acc: 0.9971 - val_loss: 0.0499 - val_acc: 0.9924\n",
      "Epoch 31/32\n",
      "48000/48000 [==============================] - 1647s 34ms/step - loss: 0.0139 - acc: 0.9961 - val_loss: 0.0349 - val_acc: 0.9938\n",
      "Epoch 32/32\n",
      "48000/48000 [==============================] - 1644s 34ms/step - loss: 0.0088 - acc: 0.9973 - val_loss: 0.0507 - val_acc: 0.9918\n",
      "[0.10799134559631347, 0.9933]\n"
     ]
    }
   ],
   "source": [
    "model.compile(loss='categorical_crossentropy', optimizer='adam', metrics=['accuracy'])\n",
    "model.fit(X_train, y_train, epochs= 32 , batch_size=200, validation_split = 0.2)\n",
    "scores = model.evaluate(X_test, y_test, verbose = 10 )\n",
    "print ( scores )"
   ]
  },
  {
   "cell_type": "code",
   "execution_count": 14,
   "metadata": {},
   "outputs": [
    {
     "data": {
      "text/html": [
       "<div>\n",
       "<style scoped>\n",
       "    .dataframe tbody tr th:only-of-type {\n",
       "        vertical-align: middle;\n",
       "    }\n",
       "\n",
       "    .dataframe tbody tr th {\n",
       "        vertical-align: top;\n",
       "    }\n",
       "\n",
       "    .dataframe thead th {\n",
       "        text-align: right;\n",
       "    }\n",
       "</style>\n",
       "<table border=\"1\" class=\"dataframe\">\n",
       "  <thead>\n",
       "    <tr style=\"text-align: right;\">\n",
       "      <th></th>\n",
       "      <th>ImageId</th>\n",
       "      <th>Label</th>\n",
       "    </tr>\n",
       "  </thead>\n",
       "  <tbody>\n",
       "    <tr>\n",
       "      <th>0</th>\n",
       "      <td>1</td>\n",
       "      <td>2</td>\n",
       "    </tr>\n",
       "    <tr>\n",
       "      <th>1</th>\n",
       "      <td>2</td>\n",
       "      <td>0</td>\n",
       "    </tr>\n",
       "    <tr>\n",
       "      <th>2</th>\n",
       "      <td>3</td>\n",
       "      <td>9</td>\n",
       "    </tr>\n",
       "    <tr>\n",
       "      <th>3</th>\n",
       "      <td>4</td>\n",
       "      <td>9</td>\n",
       "    </tr>\n",
       "    <tr>\n",
       "      <th>4</th>\n",
       "      <td>5</td>\n",
       "      <td>3</td>\n",
       "    </tr>\n",
       "    <tr>\n",
       "      <th>5</th>\n",
       "      <td>6</td>\n",
       "      <td>7</td>\n",
       "    </tr>\n",
       "    <tr>\n",
       "      <th>6</th>\n",
       "      <td>7</td>\n",
       "      <td>0</td>\n",
       "    </tr>\n",
       "    <tr>\n",
       "      <th>7</th>\n",
       "      <td>8</td>\n",
       "      <td>3</td>\n",
       "    </tr>\n",
       "    <tr>\n",
       "      <th>8</th>\n",
       "      <td>9</td>\n",
       "      <td>0</td>\n",
       "    </tr>\n",
       "    <tr>\n",
       "      <th>9</th>\n",
       "      <td>10</td>\n",
       "      <td>3</td>\n",
       "    </tr>\n",
       "  </tbody>\n",
       "</table>\n",
       "</div>"
      ],
      "text/plain": [
       "   ImageId  Label\n",
       "0        1      2\n",
       "1        2      0\n",
       "2        3      9\n",
       "3        4      9\n",
       "4        5      3\n",
       "5        6      7\n",
       "6        7      0\n",
       "7        8      3\n",
       "8        9      0\n",
       "9       10      3"
      ]
     },
     "execution_count": 14,
     "metadata": {},
     "output_type": "execute_result"
    }
   ],
   "source": [
    "test_set = (test_set.values).reshape(test_set.shape[0], 28, 28 , 1).astype('float32')\n",
    "\n",
    "res = model.predict(test_set)\n",
    "res = numpy.argmax(res,axis = 1)\n",
    "res = pd.Series(res, name=\"Label\")\n",
    "submission = pd.concat([pd.Series(range(1 ,28001) ,name = \"ImageId\"),   res],axis = 1)\n",
    "submission.to_csv(\"cnn_mnist_datagen.csv\",index=False)\n",
    "submission.head(10)"
   ]
  },
  {
   "cell_type": "code",
   "execution_count": null,
   "metadata": {},
   "outputs": [],
   "source": []
  }
 ],
 "metadata": {
  "kernelspec": {
   "display_name": "Python 3",
   "language": "python",
   "name": "python3"
  },
  "language_info": {
   "codemirror_mode": {
    "name": "ipython",
    "version": 3
   },
   "file_extension": ".py",
   "mimetype": "text/x-python",
   "name": "python",
   "nbconvert_exporter": "python",
   "pygments_lexer": "ipython3",
   "version": "3.6.5"
  }
 },
 "nbformat": 4,
 "nbformat_minor": 2
}
